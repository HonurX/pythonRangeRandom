{
 "cells": [
  {
   "cell_type": "code",
   "execution_count": 1,
   "id": "94205587-f2b8-4a05-a802-92050b4d140d",
   "metadata": {},
   "outputs": [
    {
     "data": {
      "text/plain": [
       "[0, 1, 2, 3, 4]"
      ]
     },
     "execution_count": 1,
     "metadata": {},
     "output_type": "execute_result"
    }
   ],
   "source": [
    "list(range(5))"
   ]
  },
  {
   "cell_type": "code",
   "execution_count": 3,
   "id": "ecc10f7f-e4f6-4acf-963c-91cc98f8a2de",
   "metadata": {},
   "outputs": [
    {
     "name": "stdout",
     "output_type": "stream",
     "text": [
      "0\n",
      "4\n",
      "8\n",
      "12\n",
      "16\n"
     ]
    }
   ],
   "source": [
    "for num in list(range(5)):\n",
    "    print(num * 4)"
   ]
  },
  {
   "cell_type": "code",
   "execution_count": 7,
   "id": "51fa2078-024b-44bb-bc4c-6b31661ccdaf",
   "metadata": {},
   "outputs": [
    {
     "data": {
      "text/plain": [
       "[1, 9, 17, 25, 33, 41, 49, 57, 65, 73, 81, 89, 97]"
      ]
     },
     "execution_count": 7,
     "metadata": {},
     "output_type": "execute_result"
    }
   ],
   "source": [
    "list(range(1,100,8))"
   ]
  },
  {
   "cell_type": "markdown",
   "id": "7204e2c8-e346-448e-9a95-ad61a5c4f630",
   "metadata": {},
   "source": [
    "##Enumar"
   ]
  },
  {
   "cell_type": "code",
   "execution_count": 1,
   "id": "e32ac729-1ecd-4555-81b1-8ddd75776696",
   "metadata": {},
   "outputs": [],
   "source": []
  },
  {
   "cell_type": "code",
   "execution_count": 9,
   "id": "8f437e0b-e847-46e1-8898-02e48cd274fb",
   "metadata": {},
   "outputs": [
    {
     "name": "stdout",
     "output_type": "stream",
     "text": [
      "guncel index : 5 guncel index : 0\n",
      "guncel index : 6 guncel index : 1\n",
      "guncel index : 7 guncel index : 2\n",
      "guncel index : 8 guncel index : 3\n",
      "guncel index : 9 guncel index : 4\n",
      "guncel index : 10 guncel index : 5\n",
      "guncel index : 11 guncel index : 6\n",
      "guncel index : 12 guncel index : 7\n",
      "guncel index : 13 guncel index : 8\n",
      "guncel index : 14 guncel index : 9\n"
     ]
    }
   ],
   "source": [
    "index = 0 \n",
    "for num in list(range(5,15)):\n",
    "    print(f\"guncel index : {num} guncel index : {index}\")\n",
    "    index = index + 1"
   ]
  },
  {
   "cell_type": "code",
   "execution_count": 13,
   "id": "0ac96431-16fc-48b0-85fc-0af5a90e2fb7",
   "metadata": {},
   "outputs": [
    {
     "name": "stdout",
     "output_type": "stream",
     "text": [
      "(0, 5)\n",
      "(1, 6)\n",
      "(2, 7)\n",
      "(3, 8)\n",
      "(4, 9)\n",
      "(5, 10)\n",
      "(6, 11)\n",
      "(7, 12)\n",
      "(8, 13)\n",
      "(9, 14)\n"
     ]
    }
   ],
   "source": [
    "for eleman in enumerate (list(range(5,15))):\n",
    "    print(eleman)\n",
    "\n"
   ]
  },
  {
   "cell_type": "code",
   "execution_count": 17,
   "id": "cee028d4-a441-4ce5-8698-84330c11995a",
   "metadata": {},
   "outputs": [
    {
     "name": "stdout",
     "output_type": "stream",
     "text": [
      "0\n",
      "1\n",
      "2\n",
      "3\n",
      "4\n",
      "5\n",
      "6\n",
      "7\n",
      "8\n",
      "9\n",
      "10\n",
      "11\n",
      "12\n",
      "13\n",
      "14\n"
     ]
    }
   ],
   "source": [
    "for (index,eleman) in enumerate (list(range(5,20))):\n",
    "    print(index)\n",
    "    ##or print(eleman)"
   ]
  },
  {
   "cell_type": "markdown",
   "id": "59559f2e-d367-44c2-8ce7-5c813909405d",
   "metadata": {},
   "source": [
    "RANDOM\n"
   ]
  },
  {
   "cell_type": "code",
   "execution_count": 24,
   "id": "112b5fcd-dd85-4ff0-9f14-def1882692be",
   "metadata": {},
   "outputs": [],
   "source": [
    "from random import randint"
   ]
  },
  {
   "cell_type": "code",
   "execution_count": 26,
   "id": "908fd29e-fbe3-4173-baaf-3af5ae5b2291",
   "metadata": {},
   "outputs": [
    {
     "data": {
      "text/plain": [
       "56"
      ]
     },
     "execution_count": 26,
     "metadata": {},
     "output_type": "execute_result"
    }
   ],
   "source": [
    "randint(0,100)"
   ]
  },
  {
   "cell_type": "code",
   "execution_count": 52,
   "id": "88747b0b-60f1-41d9-9cb0-f8360a6bbe4b",
   "metadata": {},
   "outputs": [],
   "source": [
    "myList = list(range(2,12,))\n"
   ]
  },
  {
   "cell_type": "code",
   "execution_count": 54,
   "id": "9cda6379-5eba-4566-bfa4-b853c7accf14",
   "metadata": {},
   "outputs": [
    {
     "data": {
      "text/plain": [
       "[2, 3, 4, 5, 6, 7, 8, 9, 10, 11]"
      ]
     },
     "execution_count": 54,
     "metadata": {},
     "output_type": "execute_result"
    }
   ],
   "source": [
    "myList"
   ]
  },
  {
   "cell_type": "code",
   "execution_count": 60,
   "id": "6d834e08-448a-4c9e-a8ae-5464b3537236",
   "metadata": {},
   "outputs": [
    {
     "data": {
      "text/plain": [
       "8"
      ]
     },
     "execution_count": 60,
     "metadata": {},
     "output_type": "execute_result"
    }
   ],
   "source": [
    "myList[randint(2,11)]"
   ]
  },
  {
   "cell_type": "code",
   "execution_count": 62,
   "id": "212ce9fe-0297-4abc-b15f-68e19291e0da",
   "metadata": {},
   "outputs": [],
   "source": [
    "from random import shuffle\n"
   ]
  },
  {
   "cell_type": "code",
   "execution_count": 66,
   "id": "884c3952-85dd-44fb-b0f9-3d5ad76eb25e",
   "metadata": {},
   "outputs": [],
   "source": [
    "shuffle(myList)"
   ]
  },
  {
   "cell_type": "code",
   "execution_count": 68,
   "id": "2373860e-752c-46e0-9053-3817074c7b42",
   "metadata": {},
   "outputs": [
    {
     "data": {
      "text/plain": [
       "[7, 3, 8, 2, 6, 10, 11, 5, 9, 4]"
      ]
     },
     "execution_count": 68,
     "metadata": {},
     "output_type": "execute_result"
    }
   ],
   "source": [
    "myList"
   ]
  },
  {
   "cell_type": "markdown",
   "id": "29d993fb-1499-4e7f-98ef-1bbe263e0d8e",
   "metadata": {},
   "source": [
    "##ZIP"
   ]
  },
  {
   "cell_type": "code",
   "execution_count": 73,
   "id": "9e8730e3-17a3-4acd-865c-0f1aa6c47c0e",
   "metadata": {},
   "outputs": [],
   "source": [
    "mealList = [\"muz\", \"elma\" , \"uzum\"]\n",
    "calorieList = [100,200,300]\n",
    "dayList = [ \"monday\", \"tuesday\", \"friday\"]"
   ]
  },
  {
   "cell_type": "code",
   "execution_count": 75,
   "id": "b62badeb-f979-44d4-ac33-52955f3cf979",
   "metadata": {},
   "outputs": [],
   "source": [
    "myZipList = list(zip(mealList,calorieList,dayList))"
   ]
  },
  {
   "cell_type": "code",
   "execution_count": 77,
   "id": "1e65ee17-61a7-495f-a668-f6861747499c",
   "metadata": {},
   "outputs": [
    {
     "data": {
      "text/plain": [
       "[('muz', 100, 'monday'), ('elma', 200, 'tuesday'), ('uzum', 300, 'friday')]"
      ]
     },
     "execution_count": 77,
     "metadata": {},
     "output_type": "execute_result"
    }
   ],
   "source": [
    "myZipList"
   ]
  },
  {
   "cell_type": "markdown",
   "id": "3dc70167-558c-49e0-b72a-9844ebecae1c",
   "metadata": {},
   "source": [
    "##advanced Lists"
   ]
  },
  {
   "cell_type": "code",
   "execution_count": 106,
   "id": "f6d8b54e-a0c3-45dc-bc27-95938e6c51d3",
   "metadata": {},
   "outputs": [],
   "source": [
    "yeniListe = []\n",
    "isim =  \"Onur Gunes\"\n",
    "\n",
    "\n",
    "for letter in isim :\n",
    "    yeniListe.append(letter)\n",
    "    "
   ]
  },
  {
   "cell_type": "code",
   "execution_count": null,
   "id": "5bd32e63-ac8e-4394-a773-9a5d583cb2f0",
   "metadata": {},
   "outputs": [],
   "source": []
  },
  {
   "cell_type": "code",
   "execution_count": 108,
   "id": "c3246d58-d9ee-4ce5-a85a-f8bfb0e5d0ef",
   "metadata": {},
   "outputs": [
    {
     "data": {
      "text/plain": [
       "['O', 'n', 'u', 'r', ' ', 'G', 'u', 'n', 'e', 's']"
      ]
     },
     "execution_count": 108,
     "metadata": {},
     "output_type": "execute_result"
    }
   ],
   "source": [
    "yeniListe"
   ]
  },
  {
   "cell_type": "code",
   "execution_count": 110,
   "id": "7530e5ae-23a1-49db-a186-d82879462a5c",
   "metadata": {},
   "outputs": [],
   "source": [
    "newString = \"onur gunes\"\n"
   ]
  },
  {
   "cell_type": "code",
   "execution_count": 112,
   "id": "046390dc-d28b-437d-b931-6296c8589d4c",
   "metadata": {},
   "outputs": [],
   "source": [
    "newListem = [eleman for eleman in newString ]"
   ]
  },
  {
   "cell_type": "code",
   "execution_count": 114,
   "id": "12b48eb5-d4a1-40ad-95ad-76a7a109e441",
   "metadata": {},
   "outputs": [
    {
     "data": {
      "text/plain": [
       "['o', 'n', 'u', 'r', ' ', 'g', 'u', 'n', 'e', 's']"
      ]
     },
     "execution_count": 114,
     "metadata": {},
     "output_type": "execute_result"
    }
   ],
   "source": [
    "newListem"
   ]
  },
  {
   "cell_type": "code",
   "execution_count": 120,
   "id": "060f861e-7e9f-49c8-a059-111aa455b40e",
   "metadata": {},
   "outputs": [],
   "source": [
    "secondListe = [ numara * 5  for numara in  list(range(0,9))]"
   ]
  },
  {
   "cell_type": "code",
   "execution_count": 122,
   "id": "20c06b8a-eaa8-4076-8f7e-50a55e089e56",
   "metadata": {},
   "outputs": [
    {
     "data": {
      "text/plain": [
       "[0, 5, 10, 15, 20, 25, 30, 35, 40]"
      ]
     },
     "execution_count": 122,
     "metadata": {},
     "output_type": "execute_result"
    }
   ],
   "source": [
    "secondListe"
   ]
  },
  {
   "cell_type": "code",
   "execution_count": null,
   "id": "e8e3cb94-b7b8-4389-b9ee-1fb2bd4da775",
   "metadata": {},
   "outputs": [],
   "source": []
  },
  {
   "cell_type": "code",
   "execution_count": null,
   "id": "3fa08b37-44c0-4d37-a3a6-6b8a63b190fa",
   "metadata": {},
   "outputs": [],
   "source": []
  },
  {
   "cell_type": "code",
   "execution_count": null,
   "id": "548e4b49-bd9d-4810-931d-5b075a3cdc04",
   "metadata": {},
   "outputs": [],
   "source": []
  },
  {
   "cell_type": "code",
   "execution_count": null,
   "id": "210fbe8b-e5d1-4924-8c57-97f0fd30aec6",
   "metadata": {},
   "outputs": [],
   "source": []
  },
  {
   "cell_type": "code",
   "execution_count": null,
   "id": "beb00c4e-282c-44a4-8b5b-0a92704bb9ab",
   "metadata": {},
   "outputs": [],
   "source": []
  },
  {
   "cell_type": "code",
   "execution_count": null,
   "id": "e0c1a0bc-e0f3-4264-b43b-981c785f44e7",
   "metadata": {},
   "outputs": [],
   "source": []
  },
  {
   "cell_type": "code",
   "execution_count": null,
   "id": "d8e0aabd-c528-4abb-a553-ce9bad3dbbb8",
   "metadata": {},
   "outputs": [],
   "source": []
  },
  {
   "cell_type": "code",
   "execution_count": null,
   "id": "758af7d8-25e0-4885-81ec-2cb419dc3183",
   "metadata": {},
   "outputs": [],
   "source": []
  },
  {
   "cell_type": "code",
   "execution_count": null,
   "id": "e3743540-2bee-4242-baa7-8782a02169cc",
   "metadata": {},
   "outputs": [],
   "source": []
  },
  {
   "cell_type": "code",
   "execution_count": null,
   "id": "a28860ed-435e-4c4f-8f4c-fd79ae7483cb",
   "metadata": {},
   "outputs": [],
   "source": []
  },
  {
   "cell_type": "code",
   "execution_count": null,
   "id": "4cbb9250-0a8c-42b3-af74-16dcdccadb60",
   "metadata": {},
   "outputs": [],
   "source": []
  },
  {
   "cell_type": "code",
   "execution_count": null,
   "id": "f8edd47c-1948-48c0-b8a7-4a5f87917306",
   "metadata": {},
   "outputs": [],
   "source": []
  },
  {
   "cell_type": "code",
   "execution_count": null,
   "id": "7ec31fa7-6666-41da-8065-1a492acf82ab",
   "metadata": {},
   "outputs": [],
   "source": []
  },
  {
   "cell_type": "code",
   "execution_count": null,
   "id": "c99f7b2d-187e-4a19-b754-937ae779718e",
   "metadata": {},
   "outputs": [],
   "source": []
  },
  {
   "cell_type": "code",
   "execution_count": null,
   "id": "cf8639f8-139a-4306-9dd4-cdd69ee8f2e7",
   "metadata": {},
   "outputs": [],
   "source": []
  },
  {
   "cell_type": "code",
   "execution_count": null,
   "id": "acb9a3c7-f973-479f-9a27-e557c7b6fb0d",
   "metadata": {},
   "outputs": [],
   "source": []
  },
  {
   "cell_type": "code",
   "execution_count": null,
   "id": "5ef2f20e-7f0f-4568-802f-5d61d254cabe",
   "metadata": {},
   "outputs": [],
   "source": []
  },
  {
   "cell_type": "code",
   "execution_count": null,
   "id": "4b3c52e8-ec53-4cba-9c93-d2f7f9d0ea79",
   "metadata": {},
   "outputs": [],
   "source": []
  },
  {
   "cell_type": "code",
   "execution_count": null,
   "id": "4a08b153-ef8e-4055-a58b-d908a7d49707",
   "metadata": {},
   "outputs": [],
   "source": []
  },
  {
   "cell_type": "code",
   "execution_count": null,
   "id": "7256c183-3d04-4269-8b5c-f15c3c907026",
   "metadata": {},
   "outputs": [],
   "source": []
  },
  {
   "cell_type": "code",
   "execution_count": null,
   "id": "97973a5c-a8e7-4485-8e90-36e08396c40a",
   "metadata": {},
   "outputs": [],
   "source": []
  },
  {
   "cell_type": "code",
   "execution_count": null,
   "id": "5d557e25-444a-4fbd-b659-b8f2f406d105",
   "metadata": {},
   "outputs": [],
   "source": []
  },
  {
   "cell_type": "code",
   "execution_count": null,
   "id": "7d9486a7-3616-401d-bae9-010345354e70",
   "metadata": {},
   "outputs": [],
   "source": []
  },
  {
   "cell_type": "code",
   "execution_count": null,
   "id": "02f585b7-41c5-40d2-9099-ce4189a9ba2a",
   "metadata": {},
   "outputs": [],
   "source": []
  },
  {
   "cell_type": "code",
   "execution_count": null,
   "id": "18365c08-8d84-4880-b515-6283834134aa",
   "metadata": {},
   "outputs": [],
   "source": []
  }
 ],
 "metadata": {
  "kernelspec": {
   "display_name": "Python 3 (ipykernel)",
   "language": "python",
   "name": "python3"
  },
  "language_info": {
   "codemirror_mode": {
    "name": "ipython",
    "version": 3
   },
   "file_extension": ".py",
   "mimetype": "text/x-python",
   "name": "python",
   "nbconvert_exporter": "python",
   "pygments_lexer": "ipython3",
   "version": "3.12.4"
  }
 },
 "nbformat": 4,
 "nbformat_minor": 5
}
